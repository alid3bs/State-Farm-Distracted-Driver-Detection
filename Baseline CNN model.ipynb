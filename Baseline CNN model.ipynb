{
 "cells": [
  {
   "cell_type": "code",
   "execution_count": 1,
   "id": "3000fd1e",
   "metadata": {},
   "outputs": [],
   "source": [
    "import os\n",
    "\n",
    "train_dir      = os.path.join('data', 'train')\n",
    "validation_dir = os.path.join('data', 'validation')"
   ]
  },
  {
   "cell_type": "code",
   "execution_count": 2,
   "id": "ecb816a7",
   "metadata": {},
   "outputs": [
    {
     "name": "stdout",
     "output_type": "stream",
     "text": [
      "Found 18424 images belonging to 10 classes.\n",
      "Found 4000 images belonging to 10 classes.\n"
     ]
    }
   ],
   "source": [
    "from tensorflow.keras.preprocessing.image import ImageDataGenerator\n",
    "\n",
    "# All images will be rescaled by 1./255\n",
    "train_datagen = ImageDataGenerator(rescale=1./255)\n",
    "test_datagen = ImageDataGenerator(rescale=1./255)\n",
    "\n",
    "batch_size=20\n",
    "\n",
    "train_generator = train_datagen.flow_from_directory(\n",
    "        # This is the target directory\n",
    "        train_dir,\n",
    "        # All images will be resized to 400x400\n",
    "        target_size=(200, 200),\n",
    "        batch_size=batch_size,\n",
    "        class_mode=\"categorical\")\n",
    "\n",
    "validation_generator = test_datagen.flow_from_directory(\n",
    "        validation_dir,\n",
    "        target_size=(200, 200),\n",
    "        batch_size=batch_size,\n",
    "        class_mode=\"categorical\")"
   ]
  },
  {
   "cell_type": "code",
   "execution_count": 8,
   "id": "5d8b4aaf",
   "metadata": {},
   "outputs": [
    {
     "name": "stdout",
     "output_type": "stream",
     "text": [
      "Model: \"sequential_2\"\n",
      "_________________________________________________________________\n",
      " Layer (type)                Output Shape              Param #   \n",
      "=================================================================\n",
      " conv2d_10 (Conv2D)          (None, 198, 198, 32)      896       \n",
      "                                                                 \n",
      " max_pooling2d_6 (MaxPooling  (None, 99, 99, 32)       0         \n",
      " 2D)                                                             \n",
      "                                                                 \n",
      " conv2d_11 (Conv2D)          (None, 97, 97, 32)        9248      \n",
      "                                                                 \n",
      " max_pooling2d_7 (MaxPooling  (None, 48, 48, 32)       0         \n",
      " 2D)                                                             \n",
      "                                                                 \n",
      " conv2d_12 (Conv2D)          (None, 46, 46, 32)        9248      \n",
      "                                                                 \n",
      " max_pooling2d_8 (MaxPooling  (None, 23, 23, 32)       0         \n",
      " 2D)                                                             \n",
      "                                                                 \n",
      " flatten_2 (Flatten)         (None, 16928)             0         \n",
      "                                                                 \n",
      " dense_4 (Dense)             (None, 32)                541728    \n",
      "                                                                 \n",
      " dense_5 (Dense)             (None, 10)                330       \n",
      "                                                                 \n",
      "=================================================================\n",
      "Total params: 561,450\n",
      "Trainable params: 561,450\n",
      "Non-trainable params: 0\n",
      "_________________________________________________________________\n"
     ]
    }
   ],
   "source": [
    "from tensorflow.keras import layers\n",
    "from tensorflow.keras import models\n",
    "\n",
    "model = models.Sequential()\n",
    "model.add(layers.Conv2D(32, (3, 3), activation='relu', input_shape=(200, 200, 3)))\n",
    "model.add(layers.MaxPool2D((2,2)))\n",
    "\n",
    "model.add(layers.Conv2D(32, (3, 3), activation='relu'))\n",
    "model.add(layers.MaxPool2D((2,2)))\n",
    "\n",
    "model.add(layers.Conv2D(32, (3, 3), activation='relu'))\n",
    "model.add(layers.MaxPool2D((2,2)))\n",
    "\n",
    "model.add(layers.Flatten())\n",
    "model.add(layers.Dense(32, activation='relu'))\n",
    "model.add(layers.Dense(10, activation='softmax'))\n",
    "model.summary()"
   ]
  },
  {
   "cell_type": "code",
   "execution_count": 9,
   "id": "07908c42",
   "metadata": {},
   "outputs": [],
   "source": [
    "from tensorflow.keras import losses\n",
    "from tensorflow.keras import metrics\n",
    "from tensorflow.keras import optimizers\n",
    "\n",
    "model.compile(optimizer=optimizers.Adam(),\n",
    "              loss=losses.categorical_crossentropy,\n",
    "              metrics=['accuracy'])"
   ]
  },
  {
   "cell_type": "code",
   "execution_count": 10,
   "id": "b045b201",
   "metadata": {},
   "outputs": [
    {
     "name": "stdout",
     "output_type": "stream",
     "text": [
      "Epoch 1/20\n",
      "921/921 [==============================] - 190s 206ms/step - loss: 0.5220 - accuracy: 0.8297 - val_loss: 0.0749 - val_accuracy: 0.9833\n",
      "Epoch 2/20\n",
      "921/921 [==============================] - 192s 209ms/step - loss: 0.0501 - accuracy: 0.9855 - val_loss: 0.0608 - val_accuracy: 0.9852\n",
      "Epoch 3/20\n",
      "921/921 [==============================] - 194s 211ms/step - loss: 0.0316 - accuracy: 0.9906 - val_loss: 0.0930 - val_accuracy: 0.9735\n",
      "Epoch 4/20\n",
      "921/921 [==============================] - 191s 207ms/step - loss: 0.0174 - accuracy: 0.9946 - val_loss: 0.0739 - val_accuracy: 0.9833\n",
      "Epoch 5/20\n",
      "921/921 [==============================] - 192s 209ms/step - loss: 0.0253 - accuracy: 0.9925 - val_loss: 0.0585 - val_accuracy: 0.9858\n",
      "Epoch 6/20\n",
      "921/921 [==============================] - 192s 209ms/step - loss: 0.0140 - accuracy: 0.9965 - val_loss: 0.0835 - val_accuracy: 0.9820\n",
      "Epoch 7/20\n",
      "921/921 [==============================] - 189s 206ms/step - loss: 0.0129 - accuracy: 0.9963 - val_loss: 0.0769 - val_accuracy: 0.9835\n",
      "Epoch 8/20\n",
      "921/921 [==============================] - 191s 207ms/step - loss: 0.0140 - accuracy: 0.9959 - val_loss: 0.0741 - val_accuracy: 0.9818\n",
      "Epoch 9/20\n",
      "921/921 [==============================] - 192s 208ms/step - loss: 0.0156 - accuracy: 0.9951 - val_loss: 0.0566 - val_accuracy: 0.9883\n",
      "Epoch 10/20\n",
      "921/921 [==============================] - 191s 207ms/step - loss: 0.0038 - accuracy: 0.9986 - val_loss: 0.0982 - val_accuracy: 0.9785\n",
      "Epoch 11/20\n",
      "921/921 [==============================] - 196s 213ms/step - loss: 0.0046 - accuracy: 0.9989 - val_loss: 0.0272 - val_accuracy: 0.9952\n",
      "Epoch 12/20\n",
      "921/921 [==============================] - 212s 230ms/step - loss: 1.1555e-04 - accuracy: 1.0000 - val_loss: 0.0306 - val_accuracy: 0.9948\n",
      "Epoch 13/20\n",
      "921/921 [==============================] - 190s 206ms/step - loss: 6.8967e-06 - accuracy: 1.0000 - val_loss: 0.0306 - val_accuracy: 0.9952\n",
      "Epoch 14/20\n",
      "921/921 [==============================] - 189s 205ms/step - loss: 3.6444e-06 - accuracy: 1.0000 - val_loss: 0.0317 - val_accuracy: 0.9948\n",
      "Epoch 15/20\n",
      "921/921 [==============================] - 190s 206ms/step - loss: 2.0911e-06 - accuracy: 1.0000 - val_loss: 0.0324 - val_accuracy: 0.9948\n",
      "Epoch 16/20\n",
      "921/921 [==============================] - 194s 210ms/step - loss: 1.3359e-06 - accuracy: 1.0000 - val_loss: 0.0331 - val_accuracy: 0.9950\n",
      "Epoch 17/20\n",
      "921/921 [==============================] - 188s 204ms/step - loss: 8.5721e-07 - accuracy: 1.0000 - val_loss: 0.0340 - val_accuracy: 0.9950\n",
      "Epoch 18/20\n",
      "921/921 [==============================] - 189s 205ms/step - loss: 5.4385e-07 - accuracy: 1.0000 - val_loss: 0.0349 - val_accuracy: 0.9950\n",
      "Epoch 19/20\n",
      "921/921 [==============================] - 187s 203ms/step - loss: 3.3412e-07 - accuracy: 1.0000 - val_loss: 0.0357 - val_accuracy: 0.9950\n",
      "Epoch 20/20\n",
      "921/921 [==============================] - 189s 206ms/step - loss: 2.1624e-07 - accuracy: 1.0000 - val_loss: 0.0367 - val_accuracy: 0.9950\n"
     ]
    }
   ],
   "source": [
    "history = model.fit(\n",
    "      train_generator,\n",
    "      steps_per_epoch=18424//batch_size,\n",
    "      epochs=20,\n",
    "      validation_data=validation_generator,\n",
    "      validation_steps=4000//batch_size\n",
    "      )"
   ]
  },
  {
   "cell_type": "code",
   "execution_count": 11,
   "id": "56084df1",
   "metadata": {},
   "outputs": [
    {
     "data": {
      "text/plain": [
       "dict_keys(['loss', 'accuracy', 'val_loss', 'val_accuracy'])"
      ]
     },
     "execution_count": 11,
     "metadata": {},
     "output_type": "execute_result"
    }
   ],
   "source": [
    "history_dict = history.history\n",
    "history_dict.keys()"
   ]
  },
  {
   "cell_type": "code",
   "execution_count": 12,
   "id": "a375b80a",
   "metadata": {},
   "outputs": [
    {
     "data": {
      "image/png": "[encoded data removed]",
      "text/plain": [
       "<Figure size 432x288 with 1 Axes>"
      ]
     },
     "metadata": {
      "needs_background": "light"
     },
     "output_type": "display_data"
    }
   ],
   "source": [
    "import matplotlib.pyplot as plt \n",
    "\n",
    "acc = history.history['accuracy']\n",
    "val_acc = history.history['val_accuracy']\n",
    "loss = history.history['loss']\n",
    "val_loss = history.history['val_loss']\n",
    "\n",
    "epochs = range(1, len(acc) + 1)\n",
    "\n",
    "# \"bo\" is for \"blue dot\"\n",
    "plt.plot(epochs, loss, 'bo', label='Training loss')\n",
    "# b is for \"solid blue line\"\n",
    "plt.plot(epochs, val_loss, 'b', label='Validation loss')\n",
    "plt.title('Training and validation loss')\n",
    "plt.xlabel('Epochs')\n",
    "plt.ylabel('Loss')\n",
    "plt.legend()\n",
    "\n",
    "plt.show()"
   ]
  },
  {
   "cell_type": "code",
   "execution_count": 13,
   "id": "47f9a7f1",
   "metadata": {},
   "outputs": [
    {
     "data": {
      "image/png": "[encoded data removed]",
      "text/plain": [
       "<Figure size 432x288 with 1 Axes>"
      ]
     },
     "metadata": {
      "needs_background": "light"
     },
     "output_type": "display_data"
    }
   ],
   "source": [
    "plt.clf()   # clear figure\n",
    "\n",
    "plt.plot(epochs, acc, 'bo', label='Training acc')\n",
    "plt.plot(epochs, val_acc, 'b', label='Validation acc')\n",
    "plt.title('Training and validation accuracy')\n",
    "plt.xlabel('Epochs')\n",
    "plt.ylabel('Loss')\n",
    "plt.legend()\n",
    "\n",
    "plt.show()"
   ]
  },
  {
   "cell_type": "code",
   "execution_count": 14,
   "id": "e7cc2466",
   "metadata": {},
   "outputs": [],
   "source": [
    "model.save('baseCnn.h5')"
   ]
  },
  {
   "cell_type": "code",
   "execution_count": null,
   "id": "6a046c66",
   "metadata": {},
   "outputs": [],
   "source": []
  }
 ],
 "metadata": {
  "kernelspec": {
   "display_name": "Python 3 (ipykernel)",
   "language": "python",
   "name": "python3"
  },
  "language_info": {
   "codemirror_mode": {
    "name": "ipython",
    "version": 3
   },
   "file_extension": ".py",
   "mimetype": "text/x-python",
   "name": "python",
   "nbconvert_exporter": "python",
   "pygments_lexer": "ipython3",
   "version": "3.10.1"
  }
 },
 "nbformat": 4,
 "nbformat_minor": 5
}
