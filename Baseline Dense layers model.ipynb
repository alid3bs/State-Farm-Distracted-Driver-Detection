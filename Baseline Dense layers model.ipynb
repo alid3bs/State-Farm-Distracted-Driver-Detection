{
 "cells": [
  {
   "cell_type": "code",
   "execution_count": 55,
   "id": "bfa6fd43",
   "metadata": {},
   "outputs": [],
   "source": [
    "import os\n",
    "\n",
    "train_dir      = os.path.join('data', 'train')\n",
    "validation_dir = os.path.join('data', 'validation')"
   ]
  },
  {
   "cell_type": "code",
   "execution_count": 56,
   "id": "5b8f3386",
   "metadata": {},
   "outputs": [
    {
     "name": "stdout",
     "output_type": "stream",
     "text": [
      "Found 18424 images belonging to 10 classes.\n",
      "Found 4000 images belonging to 10 classes.\n"
     ]
    }
   ],
   "source": [
    "from tensorflow.keras.preprocessing.image import ImageDataGenerator\n",
    "\n",
    "# All images will be rescaled by 1./255\n",
    "train_datagen = ImageDataGenerator(rescale=1./255)\n",
    "test_datagen = ImageDataGenerator(rescale=1./255)\n",
    "\n",
    "batch_size=20\n",
    "\n",
    "train_generator = train_datagen.flow_from_directory(\n",
    "        # This is the target directory\n",
    "        train_dir,\n",
    "        # All images will be resized to 400x400\n",
    "        target_size=(200, 200),\n",
    "        batch_size=batch_size,\n",
    "        class_mode=\"categorical\")\n",
    "\n",
    "validation_generator = test_datagen.flow_from_directory(\n",
    "        validation_dir,\n",
    "        target_size=(200, 200),\n",
    "        batch_size=batch_size,\n",
    "        class_mode=\"categorical\")"
   ]
  },
  {
   "cell_type": "code",
   "execution_count": 58,
   "id": "81f3b535",
   "metadata": {},
   "outputs": [
    {
     "name": "stdout",
     "output_type": "stream",
     "text": [
      "Model: \"sequential_14\"\n",
      "_________________________________________________________________\n",
      " Layer (type)                Output Shape              Param #   \n",
      "=================================================================\n",
      " reshape_3 (Reshape)         (None, 120000)            0         \n",
      "                                                                 \n",
      " Layer_1 (Dense)             (None, 256)               30720256  \n",
      "                                                                 \n",
      " Layer_3 (Dense)             (None, 128)               32896     \n",
      "                                                                 \n",
      " Layer_4 (Dense)             (None, 64)                8256      \n",
      "                                                                 \n",
      " dense_12 (Dense)            (None, 10)                650       \n",
      "                                                                 \n",
      "=================================================================\n",
      "Total params: 30,762,058\n",
      "Trainable params: 30,762,058\n",
      "Non-trainable params: 0\n",
      "_________________________________________________________________\n"
     ]
    }
   ],
   "source": [
    "from keras import models\n",
    "from keras import layers\n",
    "\n",
    "network = models.Sequential()\n",
    "network.add(layers.Reshape((200 * 200 *3,), input_shape=(200,200,3)))\n",
    "network.add(layers.Dense(256, activation='relu', name='Layer_1', input_shape=(200 * 200 *3,)))\n",
    "network.add(layers.Dense(128, activation='relu', name='Layer_3'))\n",
    "network.add(layers.Dense(64, activation='relu', name='Layer_4'))\n",
    "\n",
    "network.add(layers.Dense(10, activation='softmax'))\n",
    "\n",
    "network.summary()"
   ]
  },
  {
   "cell_type": "code",
   "execution_count": 59,
   "id": "bd31b883",
   "metadata": {},
   "outputs": [],
   "source": [
    "from tensorflow.keras import losses\n",
    "from tensorflow.keras import metrics\n",
    "from tensorflow.keras import optimizers\n",
    "\n",
    "network.compile(optimizer=optimizers.Adam(),\n",
    "              loss=losses.categorical_crossentropy,\n",
    "              metrics=['accuracy'])"
   ]
  },
  {
   "cell_type": "code",
   "execution_count": 60,
   "id": "8a715bfb",
   "metadata": {},
   "outputs": [
    {
     "name": "stdout",
     "output_type": "stream",
     "text": [
      "Epoch 1/20\n",
      "921/921 [==============================] - 142s 153ms/step - loss: 1.7317 - accuracy: 0.6229 - val_loss: 0.4171 - val_accuracy: 0.8805\n",
      "Epoch 2/20\n",
      "921/921 [==============================] - 91s 99ms/step - loss: 0.3802 - accuracy: 0.8804 - val_loss: 0.2384 - val_accuracy: 0.9333\n",
      "Epoch 3/20\n",
      "921/921 [==============================] - 90s 98ms/step - loss: 0.3230 - accuracy: 0.9006 - val_loss: 0.2126 - val_accuracy: 0.9383\n",
      "Epoch 4/20\n",
      "921/921 [==============================] - 93s 101ms/step - loss: 0.2061 - accuracy: 0.9320 - val_loss: 0.5502 - val_accuracy: 0.8378\n",
      "Epoch 5/20\n",
      "921/921 [==============================] - 94s 102ms/step - loss: 0.2302 - accuracy: 0.9309 - val_loss: 0.1366 - val_accuracy: 0.9603\n",
      "Epoch 6/20\n",
      "921/921 [==============================] - 92s 100ms/step - loss: 0.1652 - accuracy: 0.9456 - val_loss: 0.2016 - val_accuracy: 0.9417\n",
      "Epoch 7/20\n",
      "921/921 [==============================] - 102s 111ms/step - loss: 0.1694 - accuracy: 0.9450 - val_loss: 0.1273 - val_accuracy: 0.9630\n",
      "Epoch 8/20\n",
      "921/921 [==============================] - 100s 109ms/step - loss: 0.1205 - accuracy: 0.9633 - val_loss: 0.2682 - val_accuracy: 0.9187\n",
      "Epoch 9/20\n",
      "921/921 [==============================] - 95s 103ms/step - loss: 0.1208 - accuracy: 0.9616 - val_loss: 0.1341 - val_accuracy: 0.9663\n",
      "Epoch 10/20\n",
      "921/921 [==============================] - 92s 100ms/step - loss: 0.1232 - accuracy: 0.9592 - val_loss: 0.1803 - val_accuracy: 0.9490\n",
      "Epoch 11/20\n",
      "921/921 [==============================] - 93s 100ms/step - loss: 0.0873 - accuracy: 0.9722 - val_loss: 0.2860 - val_accuracy: 0.9143\n",
      "Epoch 12/20\n",
      "921/921 [==============================] - 94s 102ms/step - loss: 0.0622 - accuracy: 0.9804 - val_loss: 0.0503 - val_accuracy: 0.9862\n",
      "Epoch 13/20\n",
      "921/921 [==============================] - 95s 103ms/step - loss: 0.1003 - accuracy: 0.9678 - val_loss: 0.0744 - val_accuracy: 0.9833\n",
      "Epoch 14/20\n",
      "921/921 [==============================] - 93s 101ms/step - loss: 0.0767 - accuracy: 0.9771 - val_loss: 0.0868 - val_accuracy: 0.9803\n",
      "Epoch 15/20\n",
      "921/921 [==============================] - 92s 100ms/step - loss: 0.0639 - accuracy: 0.9791 - val_loss: 0.1269 - val_accuracy: 0.9628\n",
      "Epoch 16/20\n",
      "921/921 [==============================] - 92s 100ms/step - loss: 0.0888 - accuracy: 0.9715 - val_loss: 0.0843 - val_accuracy: 0.9772\n",
      "Epoch 17/20\n",
      "921/921 [==============================] - 93s 100ms/step - loss: 0.0722 - accuracy: 0.9778 - val_loss: 0.1648 - val_accuracy: 0.9532\n",
      "Epoch 18/20\n",
      "921/921 [==============================] - 93s 101ms/step - loss: 0.0674 - accuracy: 0.9784 - val_loss: 0.2150 - val_accuracy: 0.9293\n",
      "Epoch 19/20\n",
      "921/921 [==============================] - 91s 99ms/step - loss: 0.0722 - accuracy: 0.9790 - val_loss: 0.0961 - val_accuracy: 0.9737\n",
      "Epoch 20/20\n",
      "921/921 [==============================] - 92s 100ms/step - loss: 0.0589 - accuracy: 0.9823 - val_loss: 0.0469 - val_accuracy: 0.9908\n"
     ]
    }
   ],
   "source": [
    "history = network.fit(\n",
    "      train_generator,\n",
    "      steps_per_epoch=18424//batch_size,\n",
    "      epochs=20,\n",
    "      validation_data=validation_generator,\n",
    "      validation_steps=4000//batch_size\n",
    "      )"
   ]
  },
  {
   "cell_type": "code",
   "execution_count": 61,
   "id": "06df8ab6",
   "metadata": {},
   "outputs": [
    {
     "data": {
      "text/plain": [
       "dict_keys(['loss', 'accuracy', 'val_loss', 'val_accuracy'])"
      ]
     },
     "execution_count": 61,
     "metadata": {},
     "output_type": "execute_result"
    }
   ],
   "source": [
    "history_dict = history.history\n",
    "history_dict.keys()"
   ]
  },
  {
   "cell_type": "code",
   "execution_count": 64,
   "id": "39169f28",
   "metadata": {},
   "outputs": [
    {
     "data": {
      "image/png": "[encoded data removed]",
      "text/plain": [
       "<Figure size 432x288 with 1 Axes>"
      ]
     },
     "metadata": {
      "needs_background": "light"
     },
     "output_type": "display_data"
    }
   ],
   "source": [
    "import matplotlib.pyplot as plt \n",
    "\n",
    "acc = history.history['accuracy']\n",
    "val_acc = history.history['val_accuracy']\n",
    "loss = history.history['loss']\n",
    "val_loss = history.history['val_loss']\n",
    "\n",
    "epochs = range(1, len(acc) + 1)\n",
    "\n",
    "# \"bo\" is for \"blue dot\"\n",
    "plt.plot(epochs, loss, 'bo', label='Training loss')\n",
    "# b is for \"solid blue line\"\n",
    "plt.plot(epochs, val_loss, 'b', label='Validation loss')\n",
    "plt.title('Training and validation loss')\n",
    "plt.xlabel('Epochs')\n",
    "plt.ylabel('Loss')\n",
    "plt.legend()\n",
    "\n",
    "plt.show()"
   ]
  },
  {
   "cell_type": "code",
   "execution_count": 65,
   "id": "f5e6f4f4",
   "metadata": {},
   "outputs": [
    {
     "data": {
      "image/png": "[encoded data removed]",
      "text/plain": [
       "<Figure size 432x288 with 1 Axes>"
      ]
     },
     "metadata": {
      "needs_background": "light"
     },
     "output_type": "display_data"
    }
   ],
   "source": [
    "plt.clf()   # clear figure\n",
    "\n",
    "plt.plot(epochs, acc, 'bo', label='Training acc')\n",
    "plt.plot(epochs, val_acc, 'b', label='Validation acc')\n",
    "plt.title('Training and validation accuracy')\n",
    "plt.xlabel('Epochs')\n",
    "plt.ylabel('Loss')\n",
    "plt.legend()\n",
    "\n",
    "plt.show()"
   ]
  },
  {
   "cell_type": "code",
   "execution_count": 67,
   "id": "c6e5ac4d",
   "metadata": {},
   "outputs": [],
   "source": [
    "network.save('baseDense.h5')"
   ]
  },
  {
   "cell_type": "code",
   "execution_count": null,
   "id": "53873593",
   "metadata": {},
   "outputs": [],
   "source": []
  }
 ],
 "metadata": {
  "kernelspec": {
   "display_name": "Python 3 (ipykernel)",
   "language": "python",
   "name": "python3"
  },
  "language_info": {
   "codemirror_mode": {
    "name": "ipython",
    "version": 3
   },
   "file_extension": ".py",
   "mimetype": "text/x-python",
   "name": "python",
   "nbconvert_exporter": "python",
   "pygments_lexer": "ipython3",
   "version": "3.10.1"
  }
 },
 "nbformat": 4,
 "nbformat_minor": 5
}
